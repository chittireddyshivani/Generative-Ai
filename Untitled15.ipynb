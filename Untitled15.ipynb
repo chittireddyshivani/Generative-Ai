{
  "nbformat": 4,
  "nbformat_minor": 0,
  "metadata": {
    "colab": {
      "provenance": [],
      "authorship_tag": "ABX9TyMROZ4xNuulDkuZ7fhu1kqM",
      "include_colab_link": true
    },
    "kernelspec": {
      "name": "python3",
      "display_name": "Python 3"
    },
    "language_info": {
      "name": "python"
    }
  },
  "cells": [
    {
      "cell_type": "markdown",
      "metadata": {
        "id": "view-in-github",
        "colab_type": "text"
      },
      "source": [
        "<a href=\"https://colab.research.google.com/github/chittireddyshivani/Generative-Ai/blob/main/Untitled15.ipynb\" target=\"_parent\"><img src=\"https://colab.research.google.com/assets/colab-badge.svg\" alt=\"Open In Colab\"/></a>"
      ]
    },
    {
      "cell_type": "code",
      "source": [
        "import numpy as np\n",
        "\n",
        "# Sigmoid activation function\n",
        "def sigmoid(x):\n",
        "    return 1 / (1 + np.exp(-x))\n",
        "\n",
        "# Derivative of sigmoid function\n",
        "def sigmoid_derivative(x):\n",
        "    return x * (1 - x)\n",
        "\n",
        "# Linear activation function\n",
        "def linear(x):\n",
        "    return x\n",
        "\n",
        "# Derivative of linear function (for backpropagation)\n",
        "def linear_derivative(x):\n",
        "    return 1\n",
        "\n",
        "# Training data (Table 1)\n",
        "X_train = np.array([[0.2, 0.1], [0.3, 0.2], [0.4, 0.3], [0.7, 0.6], [0.8, 0.7], [0.9, 0.8]])\n",
        "y_train = np.array([[0.3441], [0.3500], [0.3558], [0.3729], [0.3785], [0.3841]])\n",
        "\n",
        "# Test data (Table 2)\n",
        "X_test = np.array([[0.5, 0.4], [0.6, 0.5]])\n",
        "y_test = np.array([[0.3615], [0.3672]])\n",
        "\n",
        "# Hyperparameters\n",
        "input_size = 2  # 2 input features (x1, x2)\n",
        "hidden_size = 2 # 2 neurons in hidden layer\n",
        "output_size = 1 # 1 output\n",
        "learning_rate = 0.1\n",
        "epochs = 10000  # Number of iterations for training\n",
        "\n",
        "# Initialize weights and biases\n",
        "np.random.seed(1)  # For reproducibility\n",
        "W1 = np.random.randn(input_size, hidden_size)  # Weights between input and hidden layer\n",
        "b1 = np.zeros((1, hidden_size))  # Bias for hidden layer\n",
        "W2 = np.random.randn(hidden_size, output_size)  # Weights between hidden and output layer\n",
        "b2 = np.zeros((1, output_size))  # Bias for output layer\n",
        "\n",
        "# Training the model using Backpropagation\n",
        "for epoch in range(epochs):\n",
        "    # Forward propagation\n",
        "    hidden_input = np.dot(X_train, W1) + b1\n",
        "    hidden_output = sigmoid(hidden_input)\n",
        "    output_input = np.dot(hidden_output, W2) + b2\n",
        "    output = linear(output_input)\n",
        "\n",
        "    # Compute the error\n",
        "    error = y_train - output\n",
        "\n",
        "    # Backpropagation\n",
        "    # Calculate gradients for output layer\n",
        "    output_error = error\n",
        "    output_delta = output_error * linear_derivative(output)\n",
        "\n",
        "    # Calculate gradients for hidden layer\n",
        "    hidden_error = output_delta.dot(W2.T)\n",
        "    hidden_delta = hidden_error * sigmoid_derivative(hidden_output)\n",
        "\n",
        "    # Update weights and biases using gradient descent\n",
        "    W2 += hidden_output.T.dot(output_delta) * learning_rate\n",
        "    b2 += np.sum(output_delta, axis=0, keepdims=True) * learning_rate\n",
        "    W1 += X_train.T.dot(hidden_delta) * learning_rate\n",
        "    b1 += np.sum(hidden_delta, axis=0, keepdims=True) * learning_rate\n",
        "\n",
        "    # Calculate and print the Mean Squared Error every 1000 epochs\n",
        "    if epoch % 1000 == 0:\n",
        "        mse = np.mean(np.square(error))  # Mean Squared Error\n",
        "        print(f\"Epoch {epoch}, MSE: {mse}\")\n",
        "\n",
        "# Testing the model\n",
        "hidden_input_test = np.dot(X_test, W1) + b1\n",
        "hidden_output_test = sigmoid(hidden_input_test)\n",
        "output_input_test = np.dot(hidden_output_test, W2) + b2\n",
        "output_test = linear(output_input_test)\n",
        "\n",
        "# Calculate MSE on test data\n",
        "test_error = y_test - output_test\n",
        "test_mse = np.mean(np.square(test_error))\n",
        "print(\"\\nTest Data MSE:\", test_mse)\n",
        "\n",
        "# User input for prediction\n",
        "x1_input = float(input(\"Enter the first input (x1): \"))\n",
        "x2_input = float(input(\"Enter the second input (x2): \"))\n",
        "input_data = np.array([[x1_input, x2_input]])\n",
        "\n",
        "# Predict the output using the trained model\n",
        "hidden_input_user = np.dot(input_data, W1) + b1\n",
        "hidden_output_user = sigmoid(hidden_input_user)\n",
        "output_input_user = np.dot(hidden_output_user, W2) + b2\n",
        "predicted_output = linear(output_input_user)\n",
        "\n",
        "print(f\"\\nPredicted Output for ({x1_input}, {x2_input}):\", predicted_output[0][0])\n"
      ],
      "metadata": {
        "colab": {
          "base_uri": "https://localhost:8080/"
        },
        "id": "1L6au_iVRWO7",
        "outputId": "9e129bbe-66f5-4dc4-fa64-1e24cefdfe29"
      },
      "execution_count": 14,
      "outputs": [
        {
          "output_type": "stream",
          "name": "stdout",
          "text": [
            "Epoch 0, MSE: 0.33448128595372334\n",
            "Epoch 1000, MSE: 4.033575145641494e-09\n",
            "Epoch 2000, MSE: 4.006619308746496e-09\n",
            "Epoch 3000, MSE: 4.006358191624493e-09\n",
            "Epoch 4000, MSE: 4.00609700605919e-09\n",
            "Epoch 5000, MSE: 4.0058357520329975e-09\n",
            "Epoch 6000, MSE: 4.005574429534943e-09\n",
            "Epoch 7000, MSE: 4.005313038566128e-09\n",
            "Epoch 8000, MSE: 4.005051579099592e-09\n",
            "Epoch 9000, MSE: 4.004790051135564e-09\n",
            "\n",
            "Test Data MSE: 2.322386099684434e-09\n",
            "Enter the first input (x1): 0.2\n",
            "Enter the second input (x2): 0.1\n",
            "\n",
            "Predicted Output for (0.2, 0.1): 0.3441987967484521\n"
          ]
        }
      ]
    },
    {
      "cell_type": "code",
      "source": [],
      "metadata": {
        "id": "GYAjRejDR0H6"
      },
      "execution_count": null,
      "outputs": []
    }
  ]
}